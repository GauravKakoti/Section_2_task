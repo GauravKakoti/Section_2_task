{
 "metadata": {
  "language_info": {
   "codemirror_mode": {
    "name": "ipython",
    "version": 3
   },
   "file_extension": ".py",
   "mimetype": "text/x-python",
   "name": "python",
   "nbconvert_exporter": "python",
   "pygments_lexer": "ipython3",
   "version": "3.8.6"
  },
  "orig_nbformat": 4,
  "kernelspec": {
   "name": "python3",
   "display_name": "Python 3.8.6 64-bit"
  },
  "interpreter": {
   "hash": "9ddfba760c93d0781cb88c4db9a31eb68ca4e1616821530f19d735f356a5c9ec"
  }
 },
 "nbformat": 4,
 "nbformat_minor": 2,
 "cells": [
  {
   "cell_type": "code",
   "execution_count": null,
   "metadata": {},
   "outputs": [],
   "source": [
    "#Challenge 4: Try to define a class of \"mathBot\" which has the following features:\n",
    "\n",
    "#Can be created with arguments that specify date of creation, the name of the created instance, and other properties. These properties should be also editable.\n",
    "\n",
    "#Comes with a memory module that can store/retrieve/update/eliminate data in number into/from different datasets with different label names.\n",
    "\n",
    "#Comes with a stat module that can analyze the stored datasets statistically, such as generating the mean, median, variance, etc.\n",
    "\n",
    "#Is able to handle invalid input.\n",
    "\n",
    "\n",
    "\n",
    "\n",
    "from chai_py import ChaiBot, Update, TRoom\n",
    "import datetime, asyncio\n",
    "import nest_asyncio\n",
    "nest_asyncio.apply()\n",
    "\n",
    "\n",
    "\n",
    "class mathBot(ChaiBot):\n",
    "    def setup(self) -> None:\n",
    "        self.logger.info(\"Hello, World\")\n",
    "        name = input(\"Please give me a name if you don't want to call me mathBot\") or \"mathBot\"\n",
    "\n",
    "        parentName = input(\"Please tell me who created me if I am not created by Gaurav\") or \"Gaurav\"\n",
    "        self.botName = name\n",
    "        self.dateOfCreation = datetime.datetime.now()\n",
    "        self.parentName = parentName\n",
    "        self.dataStorageDict = {}\n",
    "    def storageData():\n",
    "        return\n",
    "    async def on_message(self, update: Update) -> str:\n",
    "        if update.latest_message.text == \"name\":\n",
    "            return f\"My name is {self.botName}\"\n",
    "        if update.latest_message.text == \"parent\":\n",
    "            return f\"I was created by {self.botName} on {self.dateOfCreation.strftime('%Y-%m-%d')}.\"\n",
    "            return f\"Echo: {update.latest_message.text}\"\n",
    "\n",
    "\n",
    "\n",
    "t_room = TRoom([mathBot()])\n",
    "t_room.chat()"
   ]
  },
  {
   "cell_type": "code",
   "execution_count": null,
   "metadata": {},
   "outputs": [],
   "source": []
  }
 ]
}